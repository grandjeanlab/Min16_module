{
  "cells": [
    {
      "cell_type": "markdown",
      "metadata": {
        "id": "GjZiDYFea55r"
      },
      "source": [
        "## Foreword and environment\n",
        "This is a Jupyter notebook. This document combines both text (e.g. *this*), and executable code. These are organized into cells. This is a **text** cell. \n"
      ]
    },
    {
      "cell_type": "code",
      "execution_count": null,
      "metadata": {
        "colab": {
          "base_uri": "https://localhost:8080/"
        },
        "id": "IS4YDe3BbLTI",
        "outputId": "26b5cd87-2c5d-45c0-a545-cc42a0cf5de6"
      },
      "outputs": [
        {
          "name": "stdout",
          "output_type": "stream",
          "text": [
            "This is a code cell\n"
          ]
        }
      ],
      "source": [
        "print('This is a code cell')\n",
        "# This is a comment. The line above will be executed when you click on the 'play' icon on the left. The comment will not be executed. "
      ]
    },
    {
      "cell_type": "markdown",
      "metadata": {
        "id": "VskT1tz2bP1K"
      },
      "source": [
        "## Environment basics\n",
        "The default environment is Python3. You can check the version by running the \n",
        "code in the following cell. "
      ]
    },
    {
      "cell_type": "code",
      "execution_count": 1,
      "metadata": {
        "colab": {
          "base_uri": "https://localhost:8080/"
        },
        "id": "r4icYT8tbTpv",
        "outputId": "f2cab14f-7328-471a-a033-0a737dd752d3"
      },
      "outputs": [
        {
          "name": "stdout",
          "output_type": "stream",
          "text": [
            "3.8.16\n"
          ]
        }
      ],
      "source": [
        "import platform  #the import function loads packages (a collection of functions) that isn't available within the default python environment. \n",
        "\n",
        "print(platform.python_version()) #the print function *prints* on screen the content therein. In this particular instance, it *prints* the content from the function `platform.python_version()`"
      ]
    },
    {
      "cell_type": "markdown",
      "metadata": {
        "id": "fZeQpb0Kban3"
      },
      "source": [
        "## Editing cells. \n",
        "You can *Double-click* to edit the content of a cell. \n",
        "<br>\n",
        "## Adding new cells.\n",
        "By hovering your mouse above or below a cell, you can add either a *code* cell or a *text* cell\n",
        "<br>\n",
        "## Formating text.\n",
        "You can add emphasis to your text using either the icons on top of the cell while editing, or using [Markdown](https://www.markdownguide.org/cheat-sheet/), a simple text-formating language. \n",
        "<br><br>\n",
        "##### 100% optional (but so good!!)\n",
        "While in Google Colab: Tools -> Settings -> Miscellaneous -> Corgi mode [x]\n"
      ]
    },
    {
      "cell_type": "markdown",
      "metadata": {
        "id": "1rIOxqLLgiTx"
      },
      "source": [
        "![no_bug](https://github.com/grandjeanlab/Min16_module/blob/main/image.png?raw=1)"
      ]
    },
    {
      "cell_type": "markdown",
      "metadata": {
        "id": "rIwCzu2yb9qK"
      },
      "source": [
        "##Assignment\n",
        "\n",
        "For this assignment you will be performing a first level GLM (general linear model) analysis with mouse fMRI data of two subjects using python. The data was gathered in the context of a study published in 2020 (find the original article below). \n",
        "\n",
        "You will be completing python code for tasks, such as defining variables, plotting images or creating a design matrix. The green comments in the code cells mark the code lines in which you have to add something. Finally, you will be applying the knowledge you gained on the way to assemble some code yourself.\n",
        "\n",
        "Good luck!"
      ]
    },
    {
      "cell_type": "markdown",
      "metadata": {
        "id": "9wo6VsKV_JUp"
      },
      "source": [
        "## Link to the original paper\n",
        "\n",
        "\n",
        "https://journals.sagepub.com/doi/full/10.1177/0271678X221082016"
      ]
    },
    {
      "cell_type": "markdown",
      "metadata": {
        "id": "wbz5LCT4JWoI"
      },
      "source": [
        "#Install Packages \n",
        "\n",
        "Type the following line and run the python cell to install the nilearn package and ugrade the google drive interface: \n",
        "\n",
        "```\n",
        "! pip install nilearn\n",
        "! pip install --upgrade --no-cache-dir gdown\n",
        "```\n",
        "\n",
        "\n",
        "\n",
        "\n",
        "\n"
      ]
    },
    {
      "cell_type": "code",
      "execution_count": null,
      "metadata": {
        "id": "h_NZitQYuZjp"
      },
      "outputs": [],
      "source": []
    },
    {
      "cell_type": "markdown",
      "metadata": {
        "id": "8h9gulkAZZ8A"
      },
      "source": [
        "Load the nilearn package and run the cell by typing the following command into the code cell:\n",
        "\n",
        "```\n",
        "import nilearn\n",
        "```\n",
        "\n"
      ]
    },
    {
      "cell_type": "code",
      "execution_count": 3,
      "metadata": {
        "id": "iKy5KUTUumTQ"
      },
      "outputs": [],
      "source": []
    },
    {
      "cell_type": "markdown",
      "metadata": {
        "id": "8p8XQpXfZZ1g"
      },
      "source": [
        "#Download the data from Google Drive\n",
        "\n",
        "The following code will download the data from a google drive folder. You just have to add the url of the drive folder between the quotation marks ( ' ' ) and run the code. The url to our data is:\n",
        "\n",
        "https://drive.google.com/uc?id=1Xj32YIKLuHVLMcaaKK2tyegp7Jw6aRSX"
      ]
    },
    {
      "cell_type": "code",
      "execution_count": null,
      "metadata": {
        "id": "DvrmnvrGysPj"
      },
      "outputs": [],
      "source": [
        "import gdown\n",
        "\n",
        "url = '' # add url here\n",
        "output = 'data.zip'\n",
        "gdown.download(url, output, quiet=False)\n",
        "! unzip data.zip"
      ]
    },
    {
      "cell_type": "markdown",
      "metadata": {
        "id": "4dCovsjSbBhD"
      },
      "source": [
        "#Plotting a template\n",
        "\n",
        "Now you should be able to find the data in the content folder on the left. The code below will plot a 3D image with the help of the plotting package. To plot the template, add the file path of the file \"ABI_template_200um.nii\" between the quotation marks and run the code. \n",
        "\n",
        "This will tell python to create the string variable Template_Path, which will then be plotted using the plotting function.\n",
        "\n",
        "The path to the file is: \n",
        "\n",
        "/content/tempalte/ABI_template_200um.nii"
      ]
    },
    {
      "cell_type": "code",
      "execution_count": null,
      "metadata": {
        "id": "uboPuuvJ6Ay8"
      },
      "outputs": [],
      "source": [
        "from nilearn import plotting\n",
        "\n",
        "template_path= '' # add path to template here\n",
        "print('Path to ABI template: %r' % template_path)\n",
        "\n",
        "plotting.plot_img(template_path)"
      ]
    },
    {
      "cell_type": "markdown",
      "metadata": {
        "id": "NCtb2ws4hjKC"
      },
      "source": [
        "#Plotting an image\n",
        "\n",
        "Let's now plot a volume of the data of subject 650. In the following code, we will first define a variable containing the image path again. This time, look for the file \"sub-AD650_ses-1.nii.gz\" in the content/data folder, click on the three dots to the right of the file name and click \"copy file path\". Paste the file path in between the quotation marks and run the code. \n",
        "\n",
        "The rest of the code will print out the path and shape of the 4D subject file."
      ]
    },
    {
      "cell_type": "code",
      "execution_count": null,
      "metadata": {
        "id": "Jr3RWvXMNC98"
      },
      "outputs": [],
      "source": [
        "image_path = '' # add path to subject file here\n",
        "print('Path to image: %r' % image_path) \n",
        "\n",
        "from nilearn import image\n",
        "print(image.load_img(image_path).shape)"
      ]
    },
    {
      "cell_type": "markdown",
      "metadata": {
        "id": "ZVBUyy1BkpPr"
      },
      "source": [
        "In the ouput of the previous code you can see that the image shape consists of 4 dimensions. The first two dimensions represent the number of voxels per slice (57 x 66), the third one represents the number of slices (40) and the fourth dimension represents the number of timepoints, or \"volumes\" (720).\n",
        "\n",
        "With the following code, you will create an image path to only the first volume using the \"image_path\" variable you just created. The volume is defined in the brackets in the first line of code. Note that, in python, indexing always starts at 0. Therefore, to get the first volume, we have to type 0, to get the second volume, we have to type 1, and so on.\n",
        "\n",
        "Also, add the the template_path variable as the background image (bg_img) in the last line of code.\n",
        "\n",
        "Now, run the following code to plot the first volume of subject 650.\n"
      ]
    },
    {
      "cell_type": "code",
      "execution_count": null,
      "metadata": {
        "id": "eHGK_a88NGrF"
      },
      "outputs": [],
      "source": [
        "first_image_path = image.index_img(image_path, 0) # index zero to plot first image\n",
        "print(first_image_path.shape)\n",
        "\n",
        "plotting.plot_stat_map(first_image_path, bg_img = template_path ) # add template_path as background image"
      ]
    },
    {
      "cell_type": "markdown",
      "metadata": {
        "id": "RDUxSW0Vv1LV"
      },
      "source": [
        "#Plotting motion parameters\n",
        "\n",
        "In each fMRI analysis, subject motion must be taken into account. The following code will create a plot showing our subjects' motion. In the content/data folder, look for the file of subject 650 with the ending \"par\", copy its path and paste it into the third line of code between the brackets. \n",
        "\n",
        "The output will show you the subjects rotations and translations from the first to the last volume."
      ]
    },
    {
      "cell_type": "code",
      "execution_count": null,
      "metadata": {
        "id": "X0TUmw268-AD"
      },
      "outputs": [],
      "source": [
        "import numpy as np\n",
        "import matplotlib.pyplot as plt\n",
        "\n",
        "par650 = np.loadtxt('') # add file path here to load parameter file\n",
        "fig, axes = plt.subplots(2, 1, figsize=(15, 5))\n",
        "axes[1].set_ylabel('rotation (radians)')\n",
        "axes[0].plot(par650[0:, :3])\n",
        "axes[1].plot(par650[0:, 3:])\n",
        "axes[1].set_xlabel('time (TR)')\n",
        "axes[0].set_ylabel('translation (mm)');"
      ]
    },
    {
      "cell_type": "markdown",
      "metadata": {
        "id": "w0ryX0x6glyq"
      },
      "source": [
        "#Convolving task events\n",
        "\n",
        "In the following part, you will create a data frame named \"events\" out of the \"events.tsv\" file. Look for the file in the \"content\" folder and paste its path into the second line of code. \n",
        "\n",
        "Use the print() function to print out the data frame.\n",
        "\n",
        "```\n",
        "print()\n",
        "```\n",
        "\n",
        "\n",
        "\n"
      ]
    },
    {
      "cell_type": "code",
      "execution_count": null,
      "metadata": {
        "id": "-ceolL-p9ZLD"
      },
      "outputs": [],
      "source": [
        "import pandas as pd\n",
        "events = pd.read_csv('', sep='\\t') #add file path here to define \"events\"\n",
        "\n",
        "#print data frame\n"
      ]
    },
    {
      "cell_type": "markdown",
      "metadata": {
        "id": "qv6xM9o5nqBv"
      },
      "source": [
        "Since the information from the data frame cannot be used like this, you have to create three separate numpy arrays, one for each column. The onsets are already defined. You can use the same code for the duration and trial_type. These variables will be needed in the following codes. Additionally, use the print function for each of them to take a look at the arrays.\n",
        "\n",
        "```\n",
        "print()\n",
        "```\n",
        "\n",
        "\n",
        "\n",
        "\n"
      ]
    },
    {
      "cell_type": "code",
      "execution_count": null,
      "metadata": {
        "id": "-AGu4TMzezHo"
      },
      "outputs": [],
      "source": [
        "onset = events.onset.to_numpy() \n",
        "# use this code to also define duration and trial_type\n",
        "\n",
        "print(onset) \n",
        "# print out duration and trial type"
      ]
    },
    {
      "cell_type": "markdown",
      "metadata": {
        "id": "9VmvOPPjofqR"
      },
      "source": [
        "The code below will give you the length, height and width of one voxel, as well as the sampling rate in seconds. This is refered to as the repetition time (TR). TR is the amount of time between the acquisition of two brain volumes. \n",
        "\n",
        "Run the code to get the TR from the image header (look for pixel dimenssions under pixdim, the 2nd, 3rd, 4th values are the spatial dimensions in mm, the 5th is the TR)."
      ]
    },
    {
      "cell_type": "code",
      "execution_count": null,
      "metadata": {
        "id": "2ECAleadni6_"
      },
      "outputs": [],
      "source": [
        "#get TR\n",
        "import nibabel as nib\n",
        "func_img = nib.load('/content/data/sub-AD650_ses-1.nii.gz')\n",
        "header = func_img.header\n",
        "print(header)"
      ]
    },
    {
      "cell_type": "markdown",
      "metadata": {
        "id": "zQQdoTRWDIUR"
      },
      "source": [
        "Now enter the repetition time in the code below to define the variable \"tr\". Do you remember the number of volumes? Enter it below the repetition time to define the variable \"n_scans\". The frametimes will be computed with these two variables. \n",
        "\n",
        "The rest of the code will define the amplitude, the type of hrf (haemodynamic response function) and experimental condition. "
      ]
    },
    {
      "cell_type": "code",
      "execution_count": null,
      "metadata": {
        "id": "YdDaHyyZiwMP"
      },
      "outputs": [],
      "source": [
        "tr =   # enter repetition time here\n",
        "n_scans =   # enter number of volumes here\n",
        "frame_times = np.arange(n_scans) * tr  \n",
        "amplitude = [1., 1., 1., 1., 1., 1., 1., 1., 1., 1.] \n",
        "exp_condition = np.array((onset, events.duration, amplitude))\n",
        "hrf_model = 'spm'"
      ]
    },
    {
      "cell_type": "markdown",
      "metadata": {
        "id": "x3Fi27NQJeh-"
      },
      "source": [
        "#Combining a regressor\n",
        "\n",
        "The following code combines all the information we just defined and computes a regressor. Run the code to compute the regressor and to plot the HRF model.\n",
        "\n",
        "The plot models the expected haemodynamic response to the stimuli that the subject experienced during the scanning."
      ]
    },
    {
      "cell_type": "code",
      "execution_count": null,
      "metadata": {
        "id": "QLmqJWJh-lO9"
      },
      "outputs": [],
      "source": [
        "from nilearn.glm.first_level import compute_regressor\n",
        "\n",
        "signal, name = nilearn.glm.first_level.compute_regressor(exp_condition, hrf_model, frame_times, con_id='cond', oversampling=50, fir_delays=None, min_onset=- 24)\n",
        "\n",
        "# to plot the hrf\n",
        "stim = np.zeros_like(frame_times)\n",
        "plt.fill(frame_times, stim, 'k', alpha=.5, label='stimulus')\n",
        "for j in range(signal.shape[1]):\n",
        "  plt.plot(frame_times, signal.T[j], label=name[j])\n",
        "  plt.xlabel('time (spm)')\n",
        "  plt.legend(loc=1)\n",
        "  plt.title(hrf_model)"
      ]
    },
    {
      "cell_type": "markdown",
      "metadata": {
        "id": "K7Wo4nmvJdAW"
      },
      "source": [
        "#Creating a Design Matrix\n",
        "\n",
        "To create an event-based design matrix, information about the trial type, onset time and duration of the events in the experiment are necessary. In the code below, all information have been added to a code that will create and visualize the design matrix for this experiment.  \n",
        "\n",
        "Just add the \"design matrices\" variable to the last line of code and run the cell.\n",
        "\n"
      ]
    },
    {
      "cell_type": "code",
      "execution_count": null,
      "metadata": {
        "id": "4omZmWYWG-F5"
      },
      "outputs": [],
      "source": [
        "from nilearn.glm.first_level import make_first_level_design_matrix\n",
        "\n",
        "design_matrices = make_first_level_design_matrix(frame_times, events,\n",
        "                          drift_model='polynomial', drift_order=3, add_regs=par650, add_reg_names=['dx','dy','dz','rot1','rot2','rot3'] )\n",
        "\n",
        "# to visualize the design matrix\n",
        "\n",
        "from nilearn.plotting import plot_design_matrix\n",
        "plot_design_matrix() # add design_matrices variable between the brackets"
      ]
    },
    {
      "cell_type": "markdown",
      "metadata": {
        "id": "qQs5-vRZnI-G"
      },
      "source": [
        "#Fitting a first-level model\n",
        "\n",
        "Now, you will fit the linear model you created in the previous sections to the fMRI data. Run the code to fit the model."
      ]
    },
    {
      "cell_type": "code",
      "execution_count": null,
      "metadata": {
        "id": "VazXtnzzykFU"
      },
      "outputs": [],
      "source": [
        "from nilearn.glm.first_level import FirstLevelModel\n",
        "\n",
        "fmri_glm = FirstLevelModel()\n",
        "fmri_glm = fmri_glm.fit(image_path, design_matrices=design_matrices)"
      ]
    },
    {
      "cell_type": "markdown",
      "metadata": {
        "id": "RocFuTFESMLF"
      },
      "source": [
        "#Computing contrasts\n",
        "\n",
        "To get more interesting results out of the model, contrasts can be computed between regressors of interest. The code below will first create and print the variable \"contrast_val\", which you need to compute a contrast.\n",
        "\n",
        "Then the plotting funtion will visualize the contrast. What areas of the brain were active during stimulation?"
      ]
    },
    {
      "cell_type": "code",
      "execution_count": null,
      "metadata": {
        "id": "omnrCNCh7Q6t"
      },
      "outputs": [],
      "source": [
        "n_columns = design_matrices.shape[1]\n",
        "contrast_val = np.hstack(([1], np.zeros(n_columns - 1)))\n",
        "\n",
        "print(contrast_val)\n",
        "\n",
        "summary_statistics_session1 = fmri_glm.compute_contrast(\n",
        "    contrast_val, output_type='all')\n",
        "\n",
        "plotting.plot_stat_map(\n",
        "    summary_statistics_session1['z_score'],\n",
        "    bg_img = template_path, threshold = 1.9,\n",
        "    title = 'My first contrast')"
      ]
    },
    {
      "attachments": {},
      "cell_type": "markdown",
      "metadata": {
        "id": "YrGQVxug-egC"
      },
      "source": [
        "Now it is your turn: Can you plot 6 images along the coronal axis? Find the right code here\n",
        "\n",
        "https://nilearn.github.io/stable/auto_examples/01_plotting/plot_demo_more_plotting.html#sphx-glr-auto-examples-01-plotting-plot-demo-more-plotting-py\n",
        "\n",
        "and adjust it in the way you need it. Use the code cell below!\n",
        "\n",
        "+   **Tipp**: As a default, the background image will be a human brain. You may use the template_path file as a background image instead, just add it to the code in the same way as you did earlier!"
      ]
    },
    {
      "cell_type": "code",
      "execution_count": null,
      "metadata": {
        "id": "PqT5vW7pVbxA"
      },
      "outputs": [],
      "source": []
    },
    {
      "cell_type": "markdown",
      "metadata": {
        "id": "Wb-CDXRxf21V"
      },
      "source": [
        "#Subject 656\n",
        "\n",
        "Now, you will repeat the same steps for the data of subject 656. In the following code cell, assemble a code that will do the following things:     \n",
        "\n",
        "*   plot a volume of the subject data (if you plot volume 1 or volume 720 is completely up to you)\n",
        "\n",
        "*   plot motion parameters of the subject\n",
        "\n",
        "*   combine regressor (no need to plot the HRF again)\n",
        "\n",
        "*   make a design matrix\n",
        "\n",
        "*   fitting a first level model\n",
        "\n",
        "*   compute contrasts\n",
        "\n",
        "Give the variables new or slightly different names (e.g., image_path2), so you don't overwrite the meaning of the variables we defined earlier. Don't forget to adjust the code to the new subject (656 instead of 650).\n",
        "\n",
        "+   **Tipp**: You don't need to load all the packages \n",
        "again. Therefore, you can ignore all the commands that start with \"import\".\n",
        "\n",
        "+   **Tipp2**: Feel free to add more code cells if you want to run the code for each step separately."
      ]
    },
    {
      "cell_type": "code",
      "execution_count": null,
      "metadata": {
        "id": "45ZfoV_mwKeX"
      },
      "outputs": [],
      "source": []
    }
  ],
  "metadata": {
    "colab": {
      "name": "Student Module fMRI.ipynb",
      "provenance": []
    },
    "kernelspec": {
      "display_name": "Python 3",
      "name": "python3"
    },
    "language_info": {
      "name": "python"
    },
    "orig_nbformat": 4
  },
  "nbformat": 4,
  "nbformat_minor": 0
}
